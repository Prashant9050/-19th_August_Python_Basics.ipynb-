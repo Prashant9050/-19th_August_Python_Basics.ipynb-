{
 "cells": [
  {
   "cell_type": "code",
   "execution_count": 16,
   "id": "2b3098c7-e7e0-471d-b140-da25bf6f6355",
   "metadata": {},
   "outputs": [
    {
     "name": "stdout",
     "output_type": "stream",
     "text": [
      "x= 3\n",
      "y= 2\n"
     ]
    }
   ],
   "source": [
    "#Question 1\n",
    "#taking value of x and y\n",
    "x = 2\n",
    "\n",
    "y = 3\n",
    "\n",
    "#after swaping\n",
    "x,y=y,x\n",
    "\n",
    "print(\"x=\" ,x)\n",
    "\n",
    "print(\"y=\" ,y)\n"
   ]
  },
  {
   "cell_type": "code",
   "execution_count": 6,
   "id": "7be5b166-747b-4969-a9c5-b73c6641a4ea",
   "metadata": {},
   "outputs": [
    {
     "name": "stdin",
     "output_type": "stream",
     "text": [
      "enter length of rectangle 3\n",
      "enter breadth of rectangle 4\n"
     ]
    },
    {
     "name": "stdout",
     "output_type": "stream",
     "text": [
      "area of rectangle 12.0\n"
     ]
    }
   ],
   "source": [
    "#Question 2\n",
    "#area of rectangle\n",
    "length = float(input(\"enter length of rectangle\"))\n",
    "\n",
    "breadth = float(input(\"enter breadth of rectangle\"))\n",
    "\n",
    "#calculate the area of rectangle\n",
    "area = length*breadth\n",
    "\n",
    "print(\"area of rectangle\" ,area)"
   ]
  },
  {
   "cell_type": "code",
   "execution_count": 8,
   "id": "2f205163-f2f8-482a-9582-98a4e9dc9e68",
   "metadata": {},
   "outputs": [
    {
     "name": "stdin",
     "output_type": "stream",
     "text": [
      "enter temperature in celsius 67\n"
     ]
    },
    {
     "name": "stdout",
     "output_type": "stream",
     "text": [
      "convert the temperature into fahreneit 152.6\n"
     ]
    }
   ],
   "source": [
    "#Question 3\n",
    "#take temperature in celcius\n",
    "celsius = float(input(\"enter temperature in celsius\"))\n",
    "\n",
    "# Convert Celsius to Fahrenheit using formula: F = (C * 9/5) + 32\n",
    "fahreneit = celsius*9/5+32\n",
    "\n",
    "#show the temperature in fehreneit\n",
    "print(\"convert the temperature into fahreneit\" , fahreneit)\n"
   ]
  },
  {
   "cell_type": "code",
   "execution_count": 2,
   "id": "aa2b8047-0de4-4341-81fa-91139d9c6ba3",
   "metadata": {},
   "outputs": [
    {
     "name": "stdin",
     "output_type": "stream",
     "text": [
      "Enter a string:  Prashant\n"
     ]
    },
    {
     "name": "stdout",
     "output_type": "stream",
     "text": [
      "The length of the string is: 8\n"
     ]
    }
   ],
   "source": [
    "#Question 4\n",
    "# Get input from the user\n",
    "input_string = input(\"Enter a string: \")\n",
    "\n",
    "# Calculate and print the length of the string\n",
    "string_length = len(input_string)\n",
    "\n",
    "print(f\"The length of the string is: {string_length}\")"
   ]
  },
  {
   "cell_type": "code",
   "execution_count": 3,
   "id": "514803f3-6ca8-4404-8abb-c0f9e0349ca2",
   "metadata": {},
   "outputs": [
    {
     "name": "stdin",
     "output_type": "stream",
     "text": [
      "Enter a sentence:  My name is Prashant.\n"
     ]
    },
    {
     "name": "stdout",
     "output_type": "stream",
     "text": [
      "Number of vowels in the sentence: 5\n"
     ]
    }
   ],
   "source": [
    "#Question 5\n",
    "# Get input from the user\n",
    "sentence = input(\"Enter a sentence: \")\n",
    "\n",
    "# Initialize a variable to keep track of the vowel count\n",
    "vowel_count = 0\n",
    "\n",
    "# Define a set of vowels\n",
    "vowels = set(\"aeiouAEIOU\")\n",
    "\n",
    "# Iterate through each character in the sentence\n",
    "for char in sentence:\n",
    " # Check if the character is in the set of vowels\n",
    "    if char in vowels:\n",
    "        vowel_count += 1\n",
    "\n",
    "# Print the vowel count\n",
    "print(f\"Number of vowels in the sentence: {vowel_count}\")"
   ]
  },
  {
   "cell_type": "code",
   "execution_count": 4,
   "id": "1a8ba427-6487-4bb9-b4c5-482ac5544579",
   "metadata": {},
   "outputs": [
    {
     "name": "stdin",
     "output_type": "stream",
     "text": [
      "Enter a string:  Prashant\n"
     ]
    },
    {
     "name": "stdout",
     "output_type": "stream",
     "text": [
      "Reversed string: tnahsarP\n"
     ]
    }
   ],
   "source": [
    "#Question 6\n",
    "# Get input from the user\n",
    "input_string = input(\"Enter a string: \")\n",
    "\n",
    "# Reverse the string \n",
    "reversed_string = input_string[::-1]\n",
    "\n",
    "# Print the reversed string\n",
    "print(f\"Reversed string: {reversed_string}\")"
   ]
  },
  {
   "cell_type": "code",
   "execution_count": 6,
   "id": "72f17846-042c-4a27-a0b3-6e9d263acc5c",
   "metadata": {},
   "outputs": [
    {
     "name": "stdin",
     "output_type": "stream",
     "text": [
      "Enter a string:  string\n"
     ]
    },
    {
     "name": "stdout",
     "output_type": "stream",
     "text": [
      "The input string is not a palindrome.\n"
     ]
    }
   ],
   "source": [
    "#Question 6\n",
    "# Get input from the user\n",
    "input_string = input(\"Enter a string: \")\n",
    "\n",
    "# Remove spaces and convert to lowercase for case-insensitive comparison\n",
    "cleaned_string = input_string.replace(\" \", \"\").lower()\n",
    "\n",
    "# Reverse the string\n",
    "reversed_string = cleaned_string[::-1]\n",
    "\n",
    "# Check if the cleaned string is equal to its reverse\n",
    "if cleaned_string == reversed_string:\n",
    "    print(\"The input string is a palindrome.\")\n",
    "else:\n",
    "    print(\"The input string is not a palindrome.\")"
   ]
  },
  {
   "cell_type": "code",
   "execution_count": 8,
   "id": "3e26d2a8-5170-44f0-9da4-97547fa759d2",
   "metadata": {},
   "outputs": [
    {
     "name": "stdin",
     "output_type": "stream",
     "text": [
      "Enter a string:  My name is Prashant Rana.\n"
     ]
    },
    {
     "name": "stdout",
     "output_type": "stream",
     "text": [
      "Modified string without spaces: MynameisPrashantRana.\n"
     ]
    }
   ],
   "source": [
    "# Get input from the user\n",
    "input_string = input(\"Enter a string: \")\n",
    "\n",
    "# Remove spaces from the input string\n",
    "modified_string = input_string.replace(\" \", \"\")\n",
    "\n",
    "# Print the modified string without spaces\n",
    "print(\"Modified string without spaces:\", modified_string)"
   ]
  },
  {
   "cell_type": "code",
   "execution_count": null,
   "id": "8c4e5c4c-64e3-41a4-8f92-796e024dd673",
   "metadata": {},
   "outputs": [],
   "source": []
  }
 ],
 "metadata": {
  "kernelspec": {
   "display_name": "Python 3 (ipykernel)",
   "language": "python",
   "name": "python3"
  },
  "language_info": {
   "codemirror_mode": {
    "name": "ipython",
    "version": 3
   },
   "file_extension": ".py",
   "mimetype": "text/x-python",
   "name": "python",
   "nbconvert_exporter": "python",
   "pygments_lexer": "ipython3",
   "version": "3.10.8"
  }
 },
 "nbformat": 4,
 "nbformat_minor": 5
}
